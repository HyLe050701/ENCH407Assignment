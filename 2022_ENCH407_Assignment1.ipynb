{
 "cells": [
  {
   "cell_type": "markdown",
   "metadata": {},
   "source": [
    "# ENCH 407 - Assignment 1 - Winter 2022\n",
    "\n",
    "**GROUP #:** *Fill your group number here*\n",
    "\n",
    "**Group members:** *Fill your name(s) here*\n",
    "\n",
    "*Due date: February 11, 2022: 5 PM*\n",
    "\n",
    "**MAKE SURE TO SHOW ALL CODING YOU USED IN YOUR WORK IN THE WORKSHEET BELOW AND MAKE SURE YOUR CODE RUNS!**"
   ]
  },
  {
   "cell_type": "markdown",
   "metadata": {},
   "source": [
    "For the design of flash evaporators the thermodynamic vapour-liquid equilibrium needs to be described. For this, the Ratchford-Rice equation is commonly used: \n",
    "\n",
    "\\begin{equation}\n",
    "\\sum_i^n \\frac{z_i (1-K_i)}{K_i + \\beta(1-K_i)} = 0\n",
    "\n",
    "\\end{equation}\n",
    "\n",
    "In this equation $n$ is the total number of components in the mixture, $z_i$ is the molar fraction of the $i^{th}$ component in the mixture, and $K_i$ is the distribution coefficent of the $i^{th}$ species and can be calculated using:\n",
    "\n",
    "\\begin{equation}\n",
    "K_i = \\frac{P_i^{sat}}{P}\n",
    "\\end{equation}\n",
    "\n",
    "in which $P$ is the pressure at which the system is operated and $P_i^{sat}$ is the vapour pressure of component $i$ (in bar), which can be calculated through the Antoine equation (where $T$ is in Kelvin):\n",
    "\n",
    "\\begin{equation}\n",
    "\\ln{P^{sat}} = A - \\frac{B}{T+C}\n",
    "\\end{equation}\n",
    "\n",
    "$\\beta$ (between 0 and 1) is the fraction of the mixture that is condensed at any given combination of temperature and pressure in which there is a vapor-liquid equilibrium. For a plant where mixtures of benzene, toluene and heptane are produced, we are trying to find the values of $\\beta$ at a temperature of 80 $\\degree C$  and a pressure of 0.6 bar. \n",
    "\n",
    "The values for $A$, $B$ and $C$ for Antoine's equation are in the table below, together with the design mole fractions of the process.\n",
    "\n",
    "|Component| $z_i$ | $A_i$ | $B_i$ | $C_i$ |\n",
    "|---|---|---|---|---|\n",
    "|Toluene (t) | 0.3 | 9.3935 | 3096.52 | -53.67 |\n",
    "|Heptane (h) | 0.4 | 9.2535 | 2911.32 | -56.51 |\n",
    "|Benzene (b) | 0.3 | 9.2806 | 2788.51 | -52.36 |"
   ]
  },
  {
   "cell_type": "markdown",
   "metadata": {},
   "source": [
    "## Part 1 - The bisection method (50 points)\n",
    "\n",
    "* For the composition given above, calculate how many iterations of the bisection method you require to find $\\beta$, if you use values of 0 and 1 as your initial boundaries and you want to achieve a tolerance of $\\epsilon_s = 10^{-6}$. (5 points)\n",
    "* In the cells below, write a Python code for the bisection method and use this code to find the value of $\\beta$ for the composition given in the table above. (15 points)\n",
    "* Due to variations in the production process, the composition of the mixture can change with time. For the following compositions, calculate the value of $\\beta$. Use initial guesses that are reasonable and find your answers with $\\epsilon_s = 10^{-6}$. Fill the table in the answer cell below. (15 points)\n",
    "    * Can you find reasonable solutions for all compositions? Can you use the same initial guesses for your boundaries for all compositions? What is the effect of using other initial guesses for the boundaries? (15 points)"
   ]
  },
  {
   "cell_type": "code",
   "execution_count": 3,
   "metadata": {},
   "outputs": [],
   "source": [
    "# Use this cell to write your bisection method code \n"
   ]
  },
  {
   "cell_type": "code",
   "execution_count": 4,
   "metadata": {},
   "outputs": [],
   "source": [
    "# Use this cell for your calculations"
   ]
  },
  {
   "cell_type": "markdown",
   "metadata": {},
   "source": [
    "## Answer cell for Part 1\n",
    "\n",
    "* The number of iterations required to find $\\beta$ is **FILL YOUR ANSWER HERE**\n",
    "* The value of $\\beta$ with the composition given above is **YOUR ANSWER HERE**\n",
    "* Fill the following table (n is the number of required iterations):\n",
    "\n",
    "\n",
    "| $z_h$ | $z_t$ | $z_b$ | $\\beta_{1,l}$ | $\\beta_{1,u}$ | n | $\\beta$ |\n",
    "| --- | --- | --- | --- | --- | --- | --- | \n",
    "|0.05 | 0.65 | 0.30 | ... | ... | ... | ...|\n",
    "|0.10 | 0.60 | 0.30 | ... | ... | ... | ... |\n",
    "|0.15 | 0.55 | 0.30 | ... | ... | ... | ...|\n",
    "|0.20 | 0.50 | 0.30 | ... | ... | ... | ...|\n",
    "|0.25 | 0.45 | 0.30 | ... | ... | ... | ...|\n",
    "|0.30 | 0.40 | 0.30 | ... | ... | ... | ...|\n",
    "|0.35 | 0.35 | 0.30 | ... | ... | ... | ...|\n",
    "|0.40 | 0.30 | 0.30 | ... | ... | ... | ...|\n",
    "|0.45 | 0.25 | 0.30 | ... | ... | ... | ...|\n",
    "|0.50 | 0.20 | 0.30 | ... | ... | ... | ...|\n",
    "|0.55 | 0.15 | 0.30 | ... | ... | ... | ...|\n",
    "|0.60 | 0.10 | 0.30 | ... | ... | ... | ...|\n",
    "\n",
    "* Comment on your solutions and the method; Can you find reasonable solutions for all compositions? Can you use the same initial guesses for your boundaries for all compositions? What is the effect of using other initial guesses for the boundaries? \n",
    "\n",
    "** YOUR COMMENTS HERE ** \n"
   ]
  },
  {
   "cell_type": "markdown",
   "metadata": {},
   "source": [
    "## Part 2 - Another method (50 points)\n",
    "\n",
    "* Choose one of the other methods that we have discussed in class for root-finding (Secant or Newton Raphson) to find the value of $\\beta$. Why do you choose this method? (15 points)\n",
    "    * *Note* Both methods are feasible, so there is not a single correct answer here. \n",
    "* Write the algorithm for the method you chose and find the values for $\\beta$ that are asked for in the table below. Does your method always converge? (15 points)\n",
    "* When you compare this second method to the bisection method you used under Part 1, what are advantages and disadvantages of both methods you have used? (20 points)"
   ]
  },
  {
   "cell_type": "code",
   "execution_count": 5,
   "metadata": {},
   "outputs": [],
   "source": [
    "# Write the code for your method of choice here "
   ]
  },
  {
   "cell_type": "code",
   "execution_count": 6,
   "metadata": {},
   "outputs": [],
   "source": [
    "# Use this cell for your calculations of B"
   ]
  },
  {
   "cell_type": "markdown",
   "metadata": {},
   "source": [
    "## Answer cell for Part 2\n",
    "* We choose to use **SECANT / NEWTON RAPHSON** (choose one) because **YOUR ANSWER HERE**\n",
    "* With our method, we get the following results (fill the table, n is the number of iterations required)\n",
    "    * *Note* Depending on the method you select, you will only require one initial guess. In that case, you may leave the second initial guess empty. \n",
    "\n",
    "| $z_h$ | $z_t$ | $z_b$ | $\\beta_{0}$ | $\\beta_{1}$ | n | $\\beta$ |\n",
    "| --- | --- | --- | --- | --- | --- | --- | \n",
    "|0.10 | 0.60 | 0.30 | ... | ... | ... | ... |\n",
    "|0.20 | 0.50 | 0.30 | ... | ... | ... | ... |\n",
    "|0.30 | 0.40 | 0.30 | ... | ... | ... | ... |\n",
    "|0.40 | 0.30 | 0.30 | ... | ... | ... | ... |\n",
    "|0.50 | 0.20 | 0.30 | ... | ... | ... | ... |\n",
    "|0.60 | 0.10 | 0.30 | ... | ... | ... | ... |\n",
    "\n",
    "* Comment on the convergance of your method. When does your method not converge? How can you avoid problems with convergence?\n",
    "\n",
    "**YOUR COMMENTS HERE**\n",
    "\n",
    "* Compare your method to the bisection method of Part 1. Based on your observations, what are advantages and disadvantages of using the different methods for this specific problem? If you could choose a method, which one would you select?\n",
    "\n",
    "**YOUR ANSWER HERE**"
   ]
  }
 ],
 "metadata": {
  "interpreter": {
   "hash": "77a52d3450579e08008f9c4a219b8596abdc312ab143a0280e0049a368ebe034"
  },
  "kernelspec": {
   "display_name": "Python 3.6.8 64-bit",
   "language": "python",
   "name": "python3"
  },
  "language_info": {
   "codemirror_mode": {
    "name": "ipython",
    "version": 3
   },
   "file_extension": ".py",
   "mimetype": "text/x-python",
   "name": "python",
   "nbconvert_exporter": "python",
   "pygments_lexer": "ipython3",
   "version": "3.6.8"
  },
  "orig_nbformat": 4
 },
 "nbformat": 4,
 "nbformat_minor": 2
}
